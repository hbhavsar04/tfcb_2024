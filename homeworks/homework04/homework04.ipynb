{
 "cells": [
  {
   "attachments": {},
   "cell_type": "markdown",
   "metadata": {},
   "source": [
    "# __Homework 4:__ Practical analysis with BioPython"
   ]
  },
  {
   "attachments": {},
   "cell_type": "markdown",
   "metadata": {},
   "source": [
    "For the homework, you are going to extend the code from the analysis of our FASTQ file in lectures 8 and 9.\n",
    "Recall that the FASTQ file contains reads from a real sequencing run of influenza virus HA and NA genes.\n",
    "\n",
    "---\n",
    "The __actual sequences__ are as follows:\n",
    "\n",
    "    5'-[end of HA]-AGGCGGCCGC-[16 X N barcode]-3'\n",
    "or \n",
    "\n",
    "    5'-[end of NA]-AGGCGGCCGC-[16 X N barcode]-3'\n",
    "---\n",
    "\n",
    "\n",
    "__The end of NA is__ `...CACGATAGATAAATAATAGTGCACCAT`\n",
    "    \n",
    "__The end of HA is__ `...CCGGATTTGCATATAATGATGCACCAT`\n",
    "\n",
    "---    \n",
    "\n",
    "    \n",
    "The __sequencing reads__ from the reverse end of the molecules (in 5'>3' orientation), so the sequencing reads are as follows:\n",
    "\n",
    "    5'-[reverse complement of 16 X N barcode]-GCGGCCGCCT-[reverse complement of the end of HA]-3'\n",
    "or\n",
    "\n",
    "    5'-[reverse complement of 16 X N barcode]-GCGGCCGCCT-[reverse complement of the end of NA]-3'\n",
    "\n",
    "---   \n",
    "    \n",
    "The reads can originate from **either** HA or NA, and that will be distinguished by the most 3' end of the read.\n",
    "But in our example exercise in class, we did not distinguish among reads matching to HA and NA, as we didn't even look far enough into the read to tell the identity.\n",
    "\n",
    "For the homework, your goal is to write code that extends the material from lectures 8 and 9 to also distinguish between HA and NA.\n",
    "This homework can be completed almost entirely by re-using code from lecture 9. You will need to set up your analysis to do the following:\n",
    " 1. Get the reverse complement of each read.\n",
    " 2. Determine if it matches the expected pattern for HA and NA, and if so which one.\n",
    " 3. If it matches, extract the barcode and add it to a dictionary to keep track of counts.\n",
    " 4. Determine the number and distribution of barcodes for HA and NA separately.\n",
    "\n",
    "Please include code to address each of the following questions. Please include code comments to explain what your code is attempting to accomplish. Don't forget to include references to the sources you used to obtain your answer, including your classmates (if you are working in groups).  "
   ]
  },
  {
   "cell_type": "markdown",
   "metadata": {},
   "source": [
    "1. How many reads map to HA, and how many reads map to NA?"
   ]
  },
  {
   "cell_type": "code",
   "execution_count": 90,
   "metadata": {},
   "outputs": [
    {
     "name": "stdout",
     "output_type": "stream",
     "text": [
      "5409 sequences map to HA\n",
      "4122 sequences map to NA\n"
     ]
    }
   ],
   "source": [
    "# Import packages\n",
    "import re\n",
    "import Bio.SeqIO\n",
    "import Bio.Seq\n",
    "\n",
    "# Define gene ends as variables \n",
    "HA_end = \"CCGGATTTGCATATAATGATGCACCAT\"\n",
    "NA_end = \"CACGATAGATAAATAATAGTGCACCAT\"\n",
    "\n",
    "def read_barcode(seqread, bclen, upstream='AGGCGGCCGC'):\n",
    "    \"\"\"Identify barcode with known upstream sequence.\n",
    "    \n",
    "    Parameters\n",
    "    ----------\n",
    "    seqread : Seq object\n",
    "        Nucleotide sequence read matching UPSTREAM-BARCODE in reverse orientation.\n",
    "    bclen : int\n",
    "        Length of barcode\n",
    "    upstream: str\n",
    "        Sequence upstream of the barcode.\n",
    "        \n",
    "    Returns\n",
    "    -------\n",
    "    List or None\n",
    "        Sequence of the barcode in the forward orientation and the gene id in a list, or `None` if no match to expected barcoded sequence. \n",
    "    \"\"\"\n",
    "    # Convert to forward orientation\n",
    "    seq_fwd = seqread.reverse_complement()\n",
    "\n",
    "    # Change seq_fwd to a string\n",
    "    seq_fwd_str = str(seq_fwd)\n",
    "    \n",
    "    # Create a pattern to match the upstream sequence and barcode\n",
    "    pattern = re.compile(f\"(?<={upstream})([ATCG]{{{bclen}}})\")\n",
    "\n",
    "    # Search for the pattern in the forward sequence\n",
    "    match = pattern.search(str(seq_fwd_str))\n",
    "\n",
    "    # Check if you get a match. If there's no match, its an invalid sequence\n",
    "    if match: \n",
    "        # Define the barcode\n",
    "        barcode = match.group(0)\n",
    "        # determine if the sequence is HA and NA. return the barcode with the gene id\n",
    "        if HA_end in seq_fwd_str:\n",
    "            return [barcode, 'HA']\n",
    "        elif NA_end in seq_fwd_str:\n",
    "            return [barcode, 'NA']\n",
    "    # For the invalid sequences, determine if it is HA or Na\n",
    "    else: \n",
    "        if HA_end in seq_fwd_str:\n",
    "            return ['invalid_barcode', 'HA']\n",
    "        elif NA_end in seq_fwd_str:\n",
    "            return ['invalid_barcode', 'NA']    \n",
    "    return None\n",
    "\n",
    "# Read sequences from the barcodes_R1.fastq file and create a list of only the sequences (as Seq objects)\n",
    "# Just copied from lecture 09\n",
    "\n",
    "seqreads = list(Bio.SeqIO.parse('barcodes_R1.fastq', 'fastq'))\n",
    "seqreads_Seq = []\n",
    "for seqrecord in seqreads:\n",
    "    seqreads_Seq.append(seqrecord.seq)\n",
    "\n",
    "def count_barcodes(seqreads_Seq, bclen, upstream='AGGCGGCCGC'):\n",
    "    \"\"\"\n",
    "    Counts occurrences of barcodes with a known upstream sequence.\n",
    "\n",
    "    Parameters\n",
    "    ----------\n",
    "    seqreads_Seq : list of Seq objects\n",
    "        List of nucleotide sequence reads to analyze.\n",
    "    bclen : int\n",
    "        Length of barcode.\n",
    "    upstream : str\n",
    "        Sequence upstream of the barcode.\n",
    "\n",
    "    Returns\n",
    "    -------\n",
    "    A list containing: \n",
    "        dict\n",
    "            Dictionary with HA barcodes as keys and their counts as values.\n",
    "        dict\n",
    "            Dictionary with NA barcodes as keys and their counts as values. \n",
    "        int\n",
    "            Number of invalid sequences that also don't match a gene \n",
    "    \"\"\"\n",
    "    # Initialize an empty dictionaries to store barcode counts for ha and na\n",
    "    ha_barcode_counts = {}\n",
    "    na_barcode_counts = {}\n",
    "    # Counter for sequences without a valid barcode\n",
    "    invalid_count = 0\n",
    "    # Iterate over each sequence\n",
    "    for seqread in seqreads_Seq:\n",
    "        # Create a variable that can be used to check if read_barcodes gives None\n",
    "        rb_result = read_barcode(seqread, bclen, upstream=upstream)\n",
    "        if rb_result:\n",
    "            # determine barcode and gene type \n",
    "            barcode, gene_type = rb_result\n",
    "            # Check if the gene type is HA or NA. If it's one of these, increment the gene type\n",
    "            #  barcode count or set to 1 if not in dictionary.\n",
    "            if gene_type == 'HA':\n",
    "                ha_barcode_counts[barcode] = ha_barcode_counts.get(barcode, 0) + 1\n",
    "            elif gene_type == 'NA':\n",
    "                na_barcode_counts[barcode] = na_barcode_counts.get(barcode, 0) + 1\n",
    "        else:\n",
    "            # Increment the invalid count if no barcode is found\n",
    "            invalid_count += 1\n",
    "    return [ha_barcode_counts, na_barcode_counts, invalid_count]\n",
    "\n",
    "# Run the barcode counting function for each gene\n",
    "ha_counts = count_barcodes(seqreads_Seq, 16)[0]\n",
    "na_counts = count_barcodes(seqreads_Seq, 16)[1]\n",
    "\n",
    "# Make a function to count the total reads of a barcode by iterating over all the barcodes and adding their count to count \n",
    "def total_reads(gene_counts):\n",
    "    count = 0\n",
    "    for barcode in gene_counts:\n",
    "        count += gene_counts[barcode]\n",
    "    return count\n",
    "\n",
    "# Print out results\n",
    "print(str(total_reads(ha_counts)) + ' sequences map to HA')\n",
    "print(str(total_reads(na_counts)) + ' sequences map to NA')\n",
    "\n"
   ]
  },
  {
   "attachments": {},
   "cell_type": "markdown",
   "metadata": {},
   "source": [
    "2. How many HA sequences did not have a valid barcode? Also anwer the same question for NA."
   ]
  },
  {
   "cell_type": "code",
   "execution_count": 91,
   "metadata": {},
   "outputs": [
    {
     "name": "stdout",
     "output_type": "stream",
     "text": [
      "There were 160 invalid HA sequences\n",
      "There were 213 invalid NA sequences\n"
     ]
    }
   ],
   "source": [
    "# Print out results\n",
    "print('There were', ha_counts['invalid_barcode'], 'invalid HA sequences')\n",
    "print('There were', na_counts['invalid_barcode'], 'invalid NA sequences')"
   ]
  },
  {
   "attachments": {},
   "cell_type": "markdown",
   "metadata": {},
   "source": [
    "3. What is the HA barcode with the most counts (and how many counts)? Also answer the same question for NA.\n",
    "\n",
    "    _Hint: you will need to find the key associated with the maximum value in your dictionary. There are many ways to do this._"
   ]
  },
  {
   "cell_type": "code",
   "execution_count": 92,
   "metadata": {},
   "outputs": [
    {
     "name": "stdout",
     "output_type": "stream",
     "text": [
      "The HA barcode with the most counts is CCCGACCCGACATTAA with 155 counts\n",
      "The NA barcode with the most counts is ACCAGTTCTCCCCGGG with 152 counts\n"
     ]
    }
   ],
   "source": [
    "# Make a function to find the barcode with the most counts and output the counts\n",
    "def find_most_counts (gene_counts):\n",
    "    # Initialize the highest barcode as an empty string  \n",
    "    highest_barcode = ''\n",
    "    # Set the highest count to a value below any of the values in the dictionary\n",
    "    highest_count = -10\n",
    "    # Iterate over all the elements in gene_counts \n",
    "    for barcode in gene_counts:\n",
    "        # Check if you're looking at the invalid barcode key\n",
    "        if barcode == 'invalid_barcode':\n",
    "            None\n",
    "        # If its not the invalid key, check if the barcode count is higher than the current highest count. If it is, replace the current highest with barcode count \n",
    "        else:\n",
    "            barcode_count = gene_counts[barcode]\n",
    "            if barcode_count > highest_count:\n",
    "                highest_count = barcode_count\n",
    "                highest_barcode = barcode\n",
    "    # Return a list containing the highest barcode and the highest count \n",
    "    return [highest_barcode, highest_count]\n",
    "# Print out the results\n",
    "print('The HA barcode with the most counts is', find_most_counts(ha_counts)[0], 'with', find_most_counts(ha_counts)[1], 'counts')\n",
    "print('The NA barcode with the most counts is', find_most_counts(na_counts)[0], 'with', find_most_counts(na_counts)[1], 'counts')"
   ]
  }
 ],
 "metadata": {
  "kernelspec": {
   "display_name": "base",
   "language": "python",
   "name": "python3"
  },
  "language_info": {
   "codemirror_mode": {
    "name": "ipython",
    "version": 3
   },
   "file_extension": ".py",
   "mimetype": "text/x-python",
   "name": "python",
   "nbconvert_exporter": "python",
   "pygments_lexer": "ipython3",
   "version": "3.9.12"
  },
  "toc": {
   "nav_menu": {},
   "number_sections": false,
   "sideBar": true,
   "skip_h1_title": false,
   "toc_cell": false,
   "toc_position": {
    "height": "623.8px",
    "left": "0px",
    "right": "829.6px",
    "top": "33.2px",
    "width": "322.4px"
   },
   "toc_section_display": "block",
   "toc_window_display": true
  }
 },
 "nbformat": 4,
 "nbformat_minor": 2
}
